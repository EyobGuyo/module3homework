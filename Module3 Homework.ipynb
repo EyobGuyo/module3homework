{
 "cells": [
  {
   "cell_type": "markdown",
   "metadata": {},
   "source": [
    "### Exercise 1\n",
    "Ask a user for 5 names and place each one in to a list called <i>names</i>. Then, print <i>names</i>."
   ]
  },
  {
   "cell_type": "code",
   "execution_count": 60,
   "metadata": {},
   "outputs": [
    {
     "name": "stdout",
     "output_type": "stream",
     "text": [
      "please add 5 name:\n",
      "addis eyob mick jhon rita\n",
      "addis eyob mick jhon rita\n"
     ]
    }
   ],
   "source": [
    "names=input(\"please add 5 name:\\n\")\n",
    "#names.append(added_names)\n",
    "print(names)\n",
    "names = names.split()"
   ]
  },
  {
   "cell_type": "markdown",
   "metadata": {},
   "source": [
    "### Exercise 2\n",
    "Print out a randomly selected name in the names list."
   ]
  },
  {
   "cell_type": "code",
   "execution_count": 61,
   "metadata": {},
   "outputs": [
    {
     "name": "stdout",
     "output_type": "stream",
     "text": [
      "addis\n"
     ]
    }
   ],
   "source": [
    "import random as rand\n",
    "a=rand.randint(0,4)\n",
    "print(names[a])"
   ]
  },
  {
   "cell_type": "markdown",
   "metadata": {},
   "source": [
    "### Exercise 3\n",
    "Ask for a color and store that answer. \n",
    "If the answer is grey then print out you found Victor's favorite color.\n",
    "Otherwise print out the color is not Victor's favorite color."
   ]
  },
  {
   "cell_type": "code",
   "execution_count": 66,
   "metadata": {},
   "outputs": [
    {
     "name": "stdout",
     "output_type": "stream",
     "text": [
      "please add color: blue\n",
      "not Victor's favorite color.\n"
     ]
    }
   ],
   "source": [
    "color=input(\"please add color: \")\n",
    "def compare_color():\n",
    "    if color==\"grey\":\n",
    "        print(\"found Victor's favorite color.\")\n",
    "    else:\n",
    "        print(\"not Victor's favorite color.\")\n",
    "compare_color()"
   ]
  },
  {
   "cell_type": "markdown",
   "metadata": {},
   "source": [
    "### Exercise 4\n",
    "Ask for an exam score and store that number. If the number is greater than 100, then print out 'You cannot have an exam score higher than 100'. If the number doesn't exceeed 100 but is greater than or equal to 75, then print out 'You did great on your exam!'. Otherwise if they scored lower than 75, then print out 'You need to study harder'."
   ]
  },
  {
   "cell_type": "code",
   "execution_count": 70,
   "metadata": {},
   "outputs": [
    {
     "name": "stdout",
     "output_type": "stream",
     "text": [
      "please enter a score: 110\n",
      "'You cannot have an exam score higher than 100'\n"
     ]
    }
   ],
   "source": [
    "score=int(input(\"please enter a score: \"))\n",
    "def result():\n",
    "    if score>=75 and score<=100:\n",
    "        print(\"You did great on your exam!\")\n",
    "    elif score>=0 and score<=74:\n",
    "        print(\"'You need to study harder\")\n",
    "    else:\n",
    "        print(\"'You cannot have an exam score higher than 100'\")\n",
    "result()"
   ]
  },
  {
   "cell_type": "markdown",
   "metadata": {},
   "source": [
    "### Exercise 5\n",
    "Write a function to convert a test score to a grade where  \n",
    " - 90 - 100: A\n",
    " - 80 - 89:  B\n",
    " - 70 - 79:  C\n",
    " - 60 - 69:  D\n",
    " - < 60   :  F\n",
    " \n",
    "If a score is not between 0 and 100 then print out an error message. In the program, ask the user for a score and then call your function. "
   ]
  },
  {
   "cell_type": "code",
   "execution_count": 2,
   "metadata": {},
   "outputs": [
    {
     "name": "stdout",
     "output_type": "stream",
     "text": [
      "Enter your score: 90\n",
      "You score: A\n"
     ]
    }
   ],
   "source": [
    "score=int(input(\"Enter your score: \"))\n",
    "def grade():\n",
    "    if score>=90 and score<=100:\n",
    "        print(\"You score: A\")\n",
    "    elif score>=80 and score<=89:\n",
    "        print(\"You score: B\")\n",
    "    elif score>=70 and score<=79:\n",
    "        print(\"You score: C\")\n",
    "    elif score>=60 and score<=69:\n",
    "        print(\"You score: D\")\n",
    "    elif score<=59:\n",
    "        print(\"You score: F\")\n",
    "    else:\n",
    "        print(\"plese enter number between 0-100\")\n",
    "grade()"
   ]
  },
  {
   "cell_type": "code",
   "execution_count": null,
   "metadata": {},
   "outputs": [],
   "source": []
  }
 ],
 "metadata": {
  "kernelspec": {
   "display_name": "Python 3 (ipykernel)",
   "language": "python",
   "name": "python3"
  },
  "language_info": {
   "codemirror_mode": {
    "name": "ipython",
    "version": 3
   },
   "file_extension": ".py",
   "mimetype": "text/x-python",
   "name": "python",
   "nbconvert_exporter": "python",
   "pygments_lexer": "ipython3",
   "version": "3.9.12"
  }
 },
 "nbformat": 4,
 "nbformat_minor": 4
}
